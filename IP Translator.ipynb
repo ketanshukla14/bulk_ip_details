{
 "cells": [
  {
   "cell_type": "code",
   "execution_count": 51,
   "id": "b8fcd207",
   "metadata": {},
   "outputs": [
    {
     "name": "stdout",
     "output_type": "stream",
     "text": [
      "Successfully processed!\n"
     ]
    }
   ],
   "source": [
    "import pandas as pd\n",
    "import requests\n",
    "\n",
    "def get_ip_details(ip_address):\n",
    "    try:\n",
    "        response = requests.get(f'https://ipwhois.app/json/{ip_address}')\n",
    "        response.raise_for_status()\n",
    "        data = response.json()\n",
    "        return data\n",
    "    except requests.exceptions.RequestException as e:\n",
    "        print(f\"Error fetching details for IP address {ip_address}: {e}\")\n",
    "\n",
    "def process_values(df):\n",
    "    ASN = []\n",
    "    City = []\n",
    "    Region = []\n",
    "    Country = []\n",
    "\n",
    "    Organization = []\n",
    "\n",
    "    TimeZone = []\n",
    "\n",
    "    for ip_address in df.iloc[:, 0]:\n",
    "        data = get_ip_details(ip_address)\n",
    "        \n",
    "        if data:\n",
    "            ASN.append(data.get('asn', None))\n",
    "            City.append(data.get('city', None))\n",
    "            Region.append(data.get('region', None))\n",
    "            Country.append(data.get('country', None))\n",
    "            Organization.append(data.get('isp', None))\n",
    "            TimeZone.append(data.get('timezone_gmt', None))\n",
    "        else:\n",
    "            ASN.append(None)\n",
    "            City.append(None)\n",
    "            Region.append(None)\n",
    "            Country.append(None)\n",
    "\n",
    "            Organization.append(None)\n",
    "\n",
    "            TimeZone.append(None)\n",
    "\n",
    "    return ASN, City, Region, Country, Organization, TimeZone\n",
    "\n",
    "def process_file(file_path):\n",
    "    if file_path.endswith('.csv'):\n",
    "        df = pd.read_csv(file_path)\n",
    "    elif file_path.endswith('.xlsx'):\n",
    "        df = pd.read_excel(file_path)\n",
    "    else:\n",
    "        raise ValueError(\"Unsupported file type. Please upload a .csv or .xlsx file.\")\n",
    "    \n",
    "    ASN, City, Region, Country, Organization, TimeZone = process_values(df)\n",
    "    \n",
    "    df['ASN'] = ASN\n",
    "    df['City'] = City\n",
    "    df['Region'] = Region\n",
    "    df['Country'] = Country\n",
    "    df['Organization'] = Organization\n",
    "    df['TimeZone'] = TimeZone\n",
    "   \n",
    "    if file_path.endswith('.csv'):\n",
    "        df.to_csv(file_path, index=False)\n",
    "    elif file_path.endswith('.xlsx'):\n",
    "        df.to_excel(file_path, index=False)\n",
    "        \n",
    "    print(\"Successfully processed!\")\n",
    "\n",
    "# Example usage\n",
    "file_path = \"Dummy IP.csv\"\n",
    "process_file(file_path)\n"
   ]
  }
 ],
 "metadata": {
  "kernelspec": {
   "display_name": "Python 3 (ipykernel)",
   "language": "python",
   "name": "python3"
  },
  "language_info": {
   "codemirror_mode": {
    "name": "ipython",
    "version": 3
   },
   "file_extension": ".py",
   "mimetype": "text/x-python",
   "name": "python",
   "nbconvert_exporter": "python",
   "pygments_lexer": "ipython3",
   "version": "3.10.11"
  }
 },
 "nbformat": 4,
 "nbformat_minor": 5
}
